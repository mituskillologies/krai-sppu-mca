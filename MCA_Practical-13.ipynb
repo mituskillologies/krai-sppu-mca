{
 "cells": [
  {
   "cell_type": "code",
   "execution_count": 1,
   "metadata": {},
   "outputs": [],
   "source": [
    "# Creating & Visualizing Neural Network for the given data."
   ]
  },
  {
   "cell_type": "code",
   "execution_count": 3,
   "metadata": {},
   "outputs": [],
   "source": [
    "from keras.layers import Dense\n",
    "from keras.models import Sequential\n",
    "import numpy as np"
   ]
  },
  {
   "cell_type": "code",
   "execution_count": 5,
   "metadata": {},
   "outputs": [],
   "source": [
    "# fix random seed for reproducibility\n",
    "seed = 7\n",
    "np.random.seed(seed)"
   ]
  },
  {
   "cell_type": "code",
   "execution_count": 6,
   "metadata": {},
   "outputs": [],
   "source": [
    "# load dataset\n",
    "dataset = np.loadtxt('pima-new.csv', delimiter=',')"
   ]
  },
  {
   "cell_type": "code",
   "execution_count": 7,
   "metadata": {},
   "outputs": [
    {
     "data": {
      "text/plain": [
       "array([[  6.   , 148.   ,  72.   , ...,   0.627,  50.   ,   1.   ],\n",
       "       [  1.   ,  85.   ,  66.   , ...,   0.351,  31.   ,   0.   ],\n",
       "       [  8.   , 183.   ,  64.   , ...,   0.672,  32.   ,   1.   ],\n",
       "       ...,\n",
       "       [  5.   , 121.   ,  72.   , ...,   0.245,  30.   ,   0.   ],\n",
       "       [  1.   , 126.   ,  60.   , ...,   0.349,  47.   ,   1.   ],\n",
       "       [  1.   ,  93.   ,  70.   , ...,   0.315,  23.   ,   0.   ]])"
      ]
     },
     "execution_count": 7,
     "metadata": {},
     "output_type": "execute_result"
    }
   ],
   "source": [
    "dataset"
   ]
  },
  {
   "cell_type": "code",
   "execution_count": 8,
   "metadata": {},
   "outputs": [
    {
     "data": {
      "text/plain": [
       "(768, 9)"
      ]
     },
     "execution_count": 8,
     "metadata": {},
     "output_type": "execute_result"
    }
   ],
   "source": [
    "dataset.shape"
   ]
  },
  {
   "cell_type": "code",
   "execution_count": 9,
   "metadata": {},
   "outputs": [],
   "source": [
    "# input data\n",
    "X = dataset[:,:8]\n",
    "\n",
    "# output data\n",
    "Y = dataset[:,8]"
   ]
  },
  {
   "cell_type": "code",
   "execution_count": 10,
   "metadata": {},
   "outputs": [
    {
     "data": {
      "text/plain": [
       "(768, 8)"
      ]
     },
     "execution_count": 10,
     "metadata": {},
     "output_type": "execute_result"
    }
   ],
   "source": [
    "X.shape"
   ]
  },
  {
   "cell_type": "code",
   "execution_count": 11,
   "metadata": {},
   "outputs": [
    {
     "data": {
      "text/plain": [
       "array([1., 0., 1., 0., 1., 0., 1., 0., 1., 1., 0., 1., 0., 1., 1., 1., 1.,\n",
       "       1., 0., 1., 0., 0., 1., 1., 1., 1., 1., 0., 0., 0., 0., 1., 0., 0.,\n",
       "       0., 0., 0., 1., 1., 1., 0., 0., 0., 1., 0., 1., 0., 0., 1., 0., 0.,\n",
       "       0., 0., 1., 0., 0., 1., 0., 0., 0., 0., 1., 0., 0., 1., 0., 1., 0.,\n",
       "       0., 0., 1., 0., 1., 0., 0., 0., 0., 0., 1., 0., 0., 0., 0., 0., 1.,\n",
       "       0., 0., 0., 1., 0., 0., 0., 0., 1., 0., 0., 0., 0., 0., 1., 1., 0.,\n",
       "       0., 0., 0., 0., 0., 0., 0., 1., 1., 1., 0., 0., 1., 1., 1., 0., 0.,\n",
       "       0., 1., 0., 0., 0., 1., 1., 0., 0., 1., 1., 1., 1., 1., 0., 0., 0.,\n",
       "       0., 0., 0., 0., 0., 0., 0., 1., 0., 0., 0., 0., 0., 0., 0., 0., 1.,\n",
       "       0., 1., 1., 0., 0., 0., 1., 0., 0., 0., 0., 1., 1., 0., 0., 0., 0.,\n",
       "       1., 1., 0., 0., 0., 1., 0., 1., 0., 1., 0., 0., 0., 0., 0., 1., 1.,\n",
       "       1., 1., 1., 0., 0., 1., 1., 0., 1., 0., 1., 1., 1., 0., 0., 0., 0.,\n",
       "       0., 0., 1., 1., 0., 1., 0., 0., 0., 1., 1., 1., 1., 0., 1., 1., 1.,\n",
       "       1., 0., 0., 0., 0., 0., 1., 0., 0., 1., 1., 0., 0., 0., 1., 1., 1.,\n",
       "       1., 0., 0., 0., 1., 1., 0., 1., 0., 0., 0., 0., 0., 0., 0., 0., 1.,\n",
       "       1., 0., 0., 0., 1., 0., 1., 0., 0., 1., 0., 1., 0., 0., 1., 1., 0.,\n",
       "       0., 0., 0., 0., 1., 0., 0., 0., 1., 0., 0., 1., 1., 0., 0., 1., 0.,\n",
       "       0., 0., 1., 1., 1., 0., 0., 1., 0., 1., 0., 1., 1., 0., 1., 0., 0.,\n",
       "       1., 0., 1., 1., 0., 0., 1., 0., 1., 0., 0., 1., 0., 1., 0., 1., 1.,\n",
       "       1., 0., 0., 1., 0., 1., 0., 0., 0., 1., 0., 0., 0., 0., 1., 1., 1.,\n",
       "       0., 0., 0., 0., 0., 0., 0., 0., 0., 1., 0., 0., 0., 0., 0., 1., 1.,\n",
       "       1., 0., 1., 1., 0., 0., 1., 0., 0., 1., 0., 0., 1., 1., 0., 0., 0.,\n",
       "       0., 1., 0., 0., 1., 0., 0., 0., 0., 0., 0., 0., 1., 1., 1., 0., 0.,\n",
       "       1., 0., 0., 1., 0., 0., 1., 0., 1., 1., 0., 1., 0., 1., 0., 1., 0.,\n",
       "       1., 1., 0., 0., 0., 0., 1., 1., 0., 1., 0., 1., 0., 0., 0., 0., 1.,\n",
       "       1., 0., 1., 0., 1., 0., 0., 0., 0., 0., 1., 0., 0., 0., 0., 1., 0.,\n",
       "       0., 1., 1., 1., 0., 0., 1., 0., 0., 1., 0., 0., 0., 1., 0., 0., 1.,\n",
       "       0., 0., 0., 0., 0., 0., 0., 0., 0., 1., 0., 0., 0., 0., 0., 0., 0.,\n",
       "       1., 0., 0., 0., 1., 0., 0., 0., 1., 1., 0., 0., 0., 0., 0., 0., 0.,\n",
       "       1., 0., 0., 0., 0., 1., 0., 0., 0., 1., 0., 0., 0., 1., 0., 0., 0.,\n",
       "       1., 0., 0., 0., 0., 1., 1., 0., 0., 0., 0., 0., 0., 1., 0., 0., 0.,\n",
       "       0., 0., 0., 0., 0., 0., 0., 0., 1., 0., 0., 0., 1., 1., 1., 1., 0.,\n",
       "       0., 1., 1., 0., 0., 0., 0., 0., 0., 0., 0., 0., 0., 0., 0., 0., 1.,\n",
       "       1., 0., 0., 0., 0., 0., 0., 0., 1., 0., 0., 0., 0., 0., 0., 0., 1.,\n",
       "       0., 1., 1., 0., 0., 0., 1., 0., 1., 0., 1., 0., 1., 0., 1., 0., 0.,\n",
       "       1., 0., 0., 1., 0., 0., 0., 0., 1., 1., 0., 1., 0., 0., 0., 0., 1.,\n",
       "       1., 0., 1., 0., 0., 0., 1., 1., 0., 0., 0., 0., 0., 0., 0., 0., 0.,\n",
       "       0., 1., 0., 0., 0., 0., 1., 0., 0., 1., 0., 0., 0., 1., 0., 0., 0.,\n",
       "       1., 1., 1., 0., 0., 0., 0., 0., 0., 1., 0., 0., 0., 1., 0., 1., 1.,\n",
       "       1., 1., 0., 1., 1., 0., 0., 0., 0., 0., 0., 0., 1., 1., 0., 1., 0.,\n",
       "       0., 1., 0., 1., 0., 0., 0., 0., 0., 1., 0., 1., 0., 1., 0., 1., 1.,\n",
       "       0., 0., 0., 0., 1., 1., 0., 0., 0., 1., 0., 1., 1., 0., 0., 1., 0.,\n",
       "       0., 1., 1., 0., 0., 1., 0., 0., 1., 0., 0., 0., 0., 0., 0., 0., 1.,\n",
       "       1., 1., 0., 0., 0., 0., 0., 0., 1., 1., 0., 0., 1., 0., 0., 1., 0.,\n",
       "       1., 1., 1., 0., 0., 1., 1., 1., 0., 1., 0., 1., 0., 1., 0., 0., 0.,\n",
       "       0., 1., 0.])"
      ]
     },
     "execution_count": 11,
     "metadata": {},
     "output_type": "execute_result"
    }
   ],
   "source": [
    "Y"
   ]
  },
  {
   "cell_type": "code",
   "execution_count": 12,
   "metadata": {},
   "outputs": [],
   "source": [
    "# create the model\n",
    "model = Sequential()\n",
    "model.add(Dense(12, input_dim=8, activation='relu'))  # Input layer\n",
    "model.add(Dense(8, activation='relu'))   # Hiddel layer\n",
    "model.add(Dense(1, activation='sigmoid'))  # Output layer"
   ]
  },
  {
   "cell_type": "code",
   "execution_count": 13,
   "metadata": {},
   "outputs": [],
   "source": [
    "# compile model\n",
    "model.compile(loss='binary_crossentropy', \n",
    "             optimizer='adam',\n",
    "             metrics=['accuracy'])"
   ]
  },
  {
   "cell_type": "code",
   "execution_count": 15,
   "metadata": {},
   "outputs": [
    {
     "name": "stdout",
     "output_type": "stream",
     "text": [
      "Epoch 1/200\n",
      "77/77 [==============================] - 0s 1ms/step - loss: 0.5194 - accuracy: 0.7474\n",
      "Epoch 2/200\n",
      "77/77 [==============================] - 0s 1ms/step - loss: 0.5186 - accuracy: 0.7539\n",
      "Epoch 3/200\n",
      "77/77 [==============================] - 0s 1ms/step - loss: 0.5038 - accuracy: 0.7409\n",
      "Epoch 4/200\n",
      "77/77 [==============================] - 0s 1ms/step - loss: 0.5183 - accuracy: 0.7539\n",
      "Epoch 5/200\n",
      "77/77 [==============================] - 0s 1ms/step - loss: 0.5138 - accuracy: 0.7500\n",
      "Epoch 6/200\n",
      "77/77 [==============================] - 0s 1ms/step - loss: 0.5507 - accuracy: 0.7539\n",
      "Epoch 7/200\n",
      "77/77 [==============================] - 0s 1ms/step - loss: 0.4970 - accuracy: 0.7721\n",
      "Epoch 8/200\n",
      "77/77 [==============================] - 0s 1ms/step - loss: 0.4935 - accuracy: 0.7578\n",
      "Epoch 9/200\n",
      "77/77 [==============================] - 0s 1ms/step - loss: 0.5039 - accuracy: 0.7630\n",
      "Epoch 10/200\n",
      "77/77 [==============================] - 0s 1ms/step - loss: 0.4965 - accuracy: 0.7643\n",
      "Epoch 11/200\n",
      "77/77 [==============================] - 0s 1ms/step - loss: 0.5130 - accuracy: 0.7682\n",
      "Epoch 12/200\n",
      "77/77 [==============================] - 0s 1ms/step - loss: 0.5053 - accuracy: 0.7500\n",
      "Epoch 13/200\n",
      "77/77 [==============================] - 0s 1ms/step - loss: 0.5022 - accuracy: 0.7643\n",
      "Epoch 14/200\n",
      "77/77 [==============================] - 0s 1ms/step - loss: 0.5063 - accuracy: 0.7682\n",
      "Epoch 15/200\n",
      "77/77 [==============================] - 0s 1ms/step - loss: 0.4891 - accuracy: 0.7721\n",
      "Epoch 16/200\n",
      "77/77 [==============================] - 0s 1ms/step - loss: 0.4912 - accuracy: 0.7669\n",
      "Epoch 17/200\n",
      "77/77 [==============================] - 0s 1ms/step - loss: 0.4922 - accuracy: 0.7630\n",
      "Epoch 18/200\n",
      "77/77 [==============================] - 0s 1ms/step - loss: 0.5082 - accuracy: 0.7500\n",
      "Epoch 19/200\n",
      "77/77 [==============================] - 0s 1ms/step - loss: 0.4952 - accuracy: 0.7578\n",
      "Epoch 20/200\n",
      "77/77 [==============================] - 0s 1ms/step - loss: 0.5007 - accuracy: 0.7747\n",
      "Epoch 21/200\n",
      "77/77 [==============================] - 0s 1ms/step - loss: 0.5121 - accuracy: 0.7656\n",
      "Epoch 22/200\n",
      "77/77 [==============================] - 0s 2ms/step - loss: 0.4876 - accuracy: 0.7656\n",
      "Epoch 23/200\n",
      "77/77 [==============================] - 0s 2ms/step - loss: 0.5127 - accuracy: 0.7448\n",
      "Epoch 24/200\n",
      "77/77 [==============================] - 0s 2ms/step - loss: 0.5277 - accuracy: 0.7357\n",
      "Epoch 25/200\n",
      "77/77 [==============================] - 0s 1ms/step - loss: 0.4927 - accuracy: 0.7721\n",
      "Epoch 26/200\n",
      "77/77 [==============================] - 0s 1ms/step - loss: 0.4873 - accuracy: 0.7773\n",
      "Epoch 27/200\n",
      "77/77 [==============================] - 0s 1ms/step - loss: 0.5237 - accuracy: 0.7513\n",
      "Epoch 28/200\n",
      "77/77 [==============================] - 0s 1ms/step - loss: 0.4869 - accuracy: 0.7656\n",
      "Epoch 29/200\n",
      "77/77 [==============================] - 0s 1ms/step - loss: 0.4874 - accuracy: 0.7552\n",
      "Epoch 30/200\n",
      "77/77 [==============================] - 0s 1ms/step - loss: 0.5350 - accuracy: 0.7435\n",
      "Epoch 31/200\n",
      "77/77 [==============================] - 0s 1ms/step - loss: 0.5002 - accuracy: 0.7630\n",
      "Epoch 32/200\n",
      "77/77 [==============================] - 0s 1ms/step - loss: 0.5079 - accuracy: 0.7669\n",
      "Epoch 33/200\n",
      "77/77 [==============================] - 0s 1ms/step - loss: 0.4970 - accuracy: 0.7721\n",
      "Epoch 34/200\n",
      "77/77 [==============================] - 0s 1ms/step - loss: 0.4988 - accuracy: 0.7604\n",
      "Epoch 35/200\n",
      "77/77 [==============================] - 0s 1ms/step - loss: 0.4822 - accuracy: 0.7656\n",
      "Epoch 36/200\n",
      "77/77 [==============================] - 0s 1ms/step - loss: 0.4829 - accuracy: 0.7747\n",
      "Epoch 37/200\n",
      "77/77 [==============================] - 0s 1ms/step - loss: 0.4919 - accuracy: 0.7721\n",
      "Epoch 38/200\n",
      "77/77 [==============================] - 0s 2ms/step - loss: 0.4825 - accuracy: 0.7760\n",
      "Epoch 39/200\n",
      "77/77 [==============================] - 0s 1ms/step - loss: 0.4790 - accuracy: 0.7708\n",
      "Epoch 40/200\n",
      "77/77 [==============================] - 0s 1ms/step - loss: 0.5207 - accuracy: 0.7474\n",
      "Epoch 41/200\n",
      "77/77 [==============================] - 0s 2ms/step - loss: 0.4737 - accuracy: 0.7786\n",
      "Epoch 42/200\n",
      "77/77 [==============================] - 0s 1ms/step - loss: 0.4833 - accuracy: 0.7786\n",
      "Epoch 43/200\n",
      "77/77 [==============================] - 0s 1ms/step - loss: 0.4816 - accuracy: 0.7656\n",
      "Epoch 44/200\n",
      "77/77 [==============================] - 0s 1ms/step - loss: 0.5072 - accuracy: 0.7578\n",
      "Epoch 45/200\n",
      "77/77 [==============================] - 0s 2ms/step - loss: 0.4783 - accuracy: 0.7747\n",
      "Epoch 46/200\n",
      "77/77 [==============================] - 0s 1ms/step - loss: 0.4816 - accuracy: 0.7812\n",
      "Epoch 47/200\n",
      "77/77 [==============================] - 0s 2ms/step - loss: 0.4778 - accuracy: 0.7852\n",
      "Epoch 48/200\n",
      "77/77 [==============================] - 0s 1ms/step - loss: 0.4699 - accuracy: 0.7695\n",
      "Epoch 49/200\n",
      "77/77 [==============================] - 0s 1ms/step - loss: 0.4722 - accuracy: 0.7773\n",
      "Epoch 50/200\n",
      "77/77 [==============================] - 0s 1ms/step - loss: 0.4759 - accuracy: 0.7786\n",
      "Epoch 51/200\n",
      "77/77 [==============================] - 0s 2ms/step - loss: 0.5066 - accuracy: 0.7630\n",
      "Epoch 52/200\n",
      "77/77 [==============================] - 0s 2ms/step - loss: 0.4901 - accuracy: 0.7721\n",
      "Epoch 53/200\n",
      "77/77 [==============================] - 0s 1ms/step - loss: 0.4839 - accuracy: 0.7839\n",
      "Epoch 54/200\n",
      "77/77 [==============================] - 0s 1ms/step - loss: 0.4680 - accuracy: 0.7930\n",
      "Epoch 55/200\n",
      "77/77 [==============================] - 0s 1ms/step - loss: 0.4743 - accuracy: 0.7799\n",
      "Epoch 56/200\n",
      "77/77 [==============================] - 0s 2ms/step - loss: 0.4903 - accuracy: 0.7682\n",
      "Epoch 57/200\n",
      "77/77 [==============================] - 0s 1ms/step - loss: 0.4667 - accuracy: 0.7852\n",
      "Epoch 58/200\n",
      "77/77 [==============================] - 0s 1ms/step - loss: 0.4751 - accuracy: 0.7708\n",
      "Epoch 59/200\n",
      "77/77 [==============================] - 0s 2ms/step - loss: 0.4855 - accuracy: 0.7617\n",
      "Epoch 60/200\n",
      "77/77 [==============================] - 0s 1ms/step - loss: 0.4834 - accuracy: 0.7695\n",
      "Epoch 61/200\n",
      "77/77 [==============================] - 0s 1ms/step - loss: 0.5219 - accuracy: 0.7461\n",
      "Epoch 62/200\n",
      "77/77 [==============================] - 0s 2ms/step - loss: 0.4900 - accuracy: 0.7786\n",
      "Epoch 63/200\n",
      "77/77 [==============================] - 0s 1ms/step - loss: 0.4914 - accuracy: 0.7721\n",
      "Epoch 64/200\n",
      "77/77 [==============================] - 0s 1ms/step - loss: 0.4773 - accuracy: 0.7865\n",
      "Epoch 65/200\n",
      "77/77 [==============================] - 0s 2ms/step - loss: 0.4700 - accuracy: 0.7799\n",
      "Epoch 66/200\n",
      "77/77 [==============================] - 0s 2ms/step - loss: 0.4694 - accuracy: 0.7799\n",
      "Epoch 67/200\n",
      "77/77 [==============================] - 0s 2ms/step - loss: 0.4789 - accuracy: 0.7721\n",
      "Epoch 68/200\n",
      "77/77 [==============================] - 0s 2ms/step - loss: 0.4745 - accuracy: 0.7786\n",
      "Epoch 69/200\n",
      "77/77 [==============================] - 0s 2ms/step - loss: 0.4594 - accuracy: 0.7760\n",
      "Epoch 70/200\n",
      "77/77 [==============================] - 0s 2ms/step - loss: 0.4711 - accuracy: 0.7786\n",
      "Epoch 71/200\n",
      "77/77 [==============================] - 0s 2ms/step - loss: 0.4862 - accuracy: 0.7682\n",
      "Epoch 72/200\n",
      "77/77 [==============================] - 0s 2ms/step - loss: 0.4692 - accuracy: 0.7721\n",
      "Epoch 73/200\n",
      "77/77 [==============================] - 0s 2ms/step - loss: 0.4634 - accuracy: 0.7734\n",
      "Epoch 74/200\n",
      "77/77 [==============================] - 0s 2ms/step - loss: 0.5112 - accuracy: 0.7734\n",
      "Epoch 75/200\n",
      "77/77 [==============================] - 0s 2ms/step - loss: 0.4716 - accuracy: 0.7799\n",
      "Epoch 76/200\n",
      "77/77 [==============================] - 0s 2ms/step - loss: 0.4659 - accuracy: 0.7878\n",
      "Epoch 77/200\n",
      "77/77 [==============================] - 0s 2ms/step - loss: 0.4636 - accuracy: 0.7786\n",
      "Epoch 78/200\n",
      "77/77 [==============================] - 0s 2ms/step - loss: 0.4815 - accuracy: 0.7734\n",
      "Epoch 79/200\n",
      "77/77 [==============================] - 0s 2ms/step - loss: 0.4694 - accuracy: 0.7930\n",
      "Epoch 80/200\n",
      "77/77 [==============================] - 0s 1ms/step - loss: 0.4662 - accuracy: 0.7878\n",
      "Epoch 81/200\n",
      "77/77 [==============================] - 0s 1ms/step - loss: 0.4733 - accuracy: 0.7721\n",
      "Epoch 82/200\n",
      "77/77 [==============================] - 0s 1ms/step - loss: 0.4699 - accuracy: 0.7969\n",
      "Epoch 83/200\n"
     ]
    },
    {
     "name": "stdout",
     "output_type": "stream",
     "text": [
      "77/77 [==============================] - 0s 1ms/step - loss: 0.4804 - accuracy: 0.7760\n",
      "Epoch 84/200\n",
      "77/77 [==============================] - 0s 1ms/step - loss: 0.4619 - accuracy: 0.7878\n",
      "Epoch 85/200\n",
      "77/77 [==============================] - 0s 1ms/step - loss: 0.4783 - accuracy: 0.7578\n",
      "Epoch 86/200\n",
      "77/77 [==============================] - 0s 1ms/step - loss: 0.4588 - accuracy: 0.7865\n",
      "Epoch 87/200\n",
      "77/77 [==============================] - 0s 1ms/step - loss: 0.4686 - accuracy: 0.7760\n",
      "Epoch 88/200\n",
      "77/77 [==============================] - 0s 1ms/step - loss: 0.4724 - accuracy: 0.7786\n",
      "Epoch 89/200\n",
      "77/77 [==============================] - 0s 1ms/step - loss: 0.4705 - accuracy: 0.7734\n",
      "Epoch 90/200\n",
      "77/77 [==============================] - 0s 2ms/step - loss: 0.4593 - accuracy: 0.7904\n",
      "Epoch 91/200\n",
      "77/77 [==============================] - 0s 2ms/step - loss: 0.4692 - accuracy: 0.7826\n",
      "Epoch 92/200\n",
      "77/77 [==============================] - 0s 2ms/step - loss: 0.4708 - accuracy: 0.7904\n",
      "Epoch 93/200\n",
      "77/77 [==============================] - 0s 1ms/step - loss: 0.4558 - accuracy: 0.7852\n",
      "Epoch 94/200\n",
      "77/77 [==============================] - 0s 1ms/step - loss: 0.4579 - accuracy: 0.7904\n",
      "Epoch 95/200\n",
      "77/77 [==============================] - 0s 1ms/step - loss: 0.4679 - accuracy: 0.7799\n",
      "Epoch 96/200\n",
      "77/77 [==============================] - 0s 1ms/step - loss: 0.4619 - accuracy: 0.7812\n",
      "Epoch 97/200\n",
      "77/77 [==============================] - 0s 1ms/step - loss: 0.4604 - accuracy: 0.7865\n",
      "Epoch 98/200\n",
      "77/77 [==============================] - 0s 1ms/step - loss: 0.4511 - accuracy: 0.7865\n",
      "Epoch 99/200\n",
      "77/77 [==============================] - 0s 1ms/step - loss: 0.4560 - accuracy: 0.7786\n",
      "Epoch 100/200\n",
      "77/77 [==============================] - 0s 1ms/step - loss: 0.4486 - accuracy: 0.7982\n",
      "Epoch 101/200\n",
      "77/77 [==============================] - 0s 1ms/step - loss: 0.4672 - accuracy: 0.7956\n",
      "Epoch 102/200\n",
      "77/77 [==============================] - 0s 1ms/step - loss: 0.4726 - accuracy: 0.7878\n",
      "Epoch 103/200\n",
      "77/77 [==============================] - 0s 1ms/step - loss: 0.4794 - accuracy: 0.7747\n",
      "Epoch 104/200\n",
      "77/77 [==============================] - 0s 1ms/step - loss: 0.4587 - accuracy: 0.7786\n",
      "Epoch 105/200\n",
      "77/77 [==============================] - 0s 1ms/step - loss: 0.4490 - accuracy: 0.7930\n",
      "Epoch 106/200\n",
      "77/77 [==============================] - 0s 1ms/step - loss: 0.4556 - accuracy: 0.7865\n",
      "Epoch 107/200\n",
      "77/77 [==============================] - 0s 1ms/step - loss: 0.4635 - accuracy: 0.7839\n",
      "Epoch 108/200\n",
      "77/77 [==============================] - 0s 1ms/step - loss: 0.4654 - accuracy: 0.7943\n",
      "Epoch 109/200\n",
      "77/77 [==============================] - 0s 1ms/step - loss: 0.4613 - accuracy: 0.7786\n",
      "Epoch 110/200\n",
      "77/77 [==============================] - 0s 1ms/step - loss: 0.4711 - accuracy: 0.7812\n",
      "Epoch 111/200\n",
      "77/77 [==============================] - 0s 1ms/step - loss: 0.4507 - accuracy: 0.7969\n",
      "Epoch 112/200\n",
      "77/77 [==============================] - 0s 1ms/step - loss: 0.4537 - accuracy: 0.7747\n",
      "Epoch 113/200\n",
      "77/77 [==============================] - 0s 1ms/step - loss: 0.4592 - accuracy: 0.7852\n",
      "Epoch 114/200\n",
      "77/77 [==============================] - 0s 1ms/step - loss: 0.4588 - accuracy: 0.7891\n",
      "Epoch 115/200\n",
      "77/77 [==============================] - 0s 1ms/step - loss: 0.4803 - accuracy: 0.7904\n",
      "Epoch 116/200\n",
      "77/77 [==============================] - 0s 1ms/step - loss: 0.4635 - accuracy: 0.7773\n",
      "Epoch 117/200\n",
      "77/77 [==============================] - 0s 1ms/step - loss: 0.4720 - accuracy: 0.7747\n",
      "Epoch 118/200\n",
      "77/77 [==============================] - 0s 1ms/step - loss: 0.4668 - accuracy: 0.7760\n",
      "Epoch 119/200\n",
      "77/77 [==============================] - 0s 1ms/step - loss: 0.4488 - accuracy: 0.7995\n",
      "Epoch 120/200\n",
      "77/77 [==============================] - 0s 1ms/step - loss: 0.4611 - accuracy: 0.7982\n",
      "Epoch 121/200\n",
      "77/77 [==============================] - 0s 1ms/step - loss: 0.4559 - accuracy: 0.7917\n",
      "Epoch 122/200\n",
      "77/77 [==============================] - 0s 1ms/step - loss: 0.4818 - accuracy: 0.7721\n",
      "Epoch 123/200\n",
      "77/77 [==============================] - 0s 1ms/step - loss: 0.4658 - accuracy: 0.7799\n",
      "Epoch 124/200\n",
      "77/77 [==============================] - 0s 2ms/step - loss: 0.4473 - accuracy: 0.7917\n",
      "Epoch 125/200\n",
      "77/77 [==============================] - 0s 2ms/step - loss: 0.4507 - accuracy: 0.7799\n",
      "Epoch 126/200\n",
      "77/77 [==============================] - 0s 2ms/step - loss: 0.4426 - accuracy: 0.7943\n",
      "Epoch 127/200\n",
      "77/77 [==============================] - 0s 2ms/step - loss: 0.4556 - accuracy: 0.7917\n",
      "Epoch 128/200\n",
      "77/77 [==============================] - 0s 2ms/step - loss: 0.4525 - accuracy: 0.7969\n",
      "Epoch 129/200\n",
      "77/77 [==============================] - 0s 2ms/step - loss: 0.4651 - accuracy: 0.7930\n",
      "Epoch 130/200\n",
      "77/77 [==============================] - 0s 2ms/step - loss: 0.4526 - accuracy: 0.7878\n",
      "Epoch 131/200\n",
      "77/77 [==============================] - 0s 2ms/step - loss: 0.4590 - accuracy: 0.7891\n",
      "Epoch 132/200\n",
      "77/77 [==============================] - 0s 2ms/step - loss: 0.4632 - accuracy: 0.7878\n",
      "Epoch 133/200\n",
      "77/77 [==============================] - 0s 1ms/step - loss: 0.4458 - accuracy: 0.8034\n",
      "Epoch 134/200\n",
      "77/77 [==============================] - 0s 1ms/step - loss: 0.4614 - accuracy: 0.7865\n",
      "Epoch 135/200\n",
      "77/77 [==============================] - 0s 960us/step - loss: 0.4506 - accuracy: 0.7917\n",
      "Epoch 136/200\n",
      "77/77 [==============================] - 0s 958us/step - loss: 0.4577 - accuracy: 0.7904\n",
      "Epoch 137/200\n",
      "77/77 [==============================] - 0s 999us/step - loss: 0.4604 - accuracy: 0.7812\n",
      "Epoch 138/200\n",
      "77/77 [==============================] - 0s 975us/step - loss: 0.4411 - accuracy: 0.7891\n",
      "Epoch 139/200\n",
      "77/77 [==============================] - 0s 993us/step - loss: 0.4463 - accuracy: 0.7891\n",
      "Epoch 140/200\n",
      "77/77 [==============================] - 0s 964us/step - loss: 0.4506 - accuracy: 0.7904\n",
      "Epoch 141/200\n",
      "77/77 [==============================] - 0s 920us/step - loss: 0.4576 - accuracy: 0.7839\n",
      "Epoch 142/200\n",
      "77/77 [==============================] - 0s 953us/step - loss: 0.4588 - accuracy: 0.7839\n",
      "Epoch 143/200\n",
      "77/77 [==============================] - 0s 2ms/step - loss: 0.4569 - accuracy: 0.7839\n",
      "Epoch 144/200\n",
      "77/77 [==============================] - 0s 2ms/step - loss: 0.4549 - accuracy: 0.7865\n",
      "Epoch 145/200\n",
      "77/77 [==============================] - 0s 2ms/step - loss: 0.4571 - accuracy: 0.7969\n",
      "Epoch 146/200\n",
      "77/77 [==============================] - 0s 2ms/step - loss: 0.4439 - accuracy: 0.7943\n",
      "Epoch 147/200\n",
      "77/77 [==============================] - 0s 2ms/step - loss: 0.4512 - accuracy: 0.7865\n",
      "Epoch 148/200\n",
      "77/77 [==============================] - 0s 2ms/step - loss: 0.4509 - accuracy: 0.7839\n",
      "Epoch 149/200\n",
      "77/77 [==============================] - 0s 2ms/step - loss: 0.4591 - accuracy: 0.7995\n",
      "Epoch 150/200\n",
      "77/77 [==============================] - 0s 2ms/step - loss: 0.4552 - accuracy: 0.7904\n",
      "Epoch 151/200\n",
      "77/77 [==============================] - 0s 2ms/step - loss: 0.4329 - accuracy: 0.8151\n",
      "Epoch 152/200\n",
      "77/77 [==============================] - 0s 2ms/step - loss: 0.4553 - accuracy: 0.7969\n",
      "Epoch 153/200\n",
      "77/77 [==============================] - 0s 2ms/step - loss: 0.4462 - accuracy: 0.8047\n",
      "Epoch 154/200\n",
      "77/77 [==============================] - 0s 2ms/step - loss: 0.4502 - accuracy: 0.7930\n",
      "Epoch 155/200\n",
      "77/77 [==============================] - 0s 2ms/step - loss: 0.4579 - accuracy: 0.7956\n",
      "Epoch 156/200\n",
      "77/77 [==============================] - 0s 2ms/step - loss: 0.4527 - accuracy: 0.7839\n",
      "Epoch 157/200\n",
      "77/77 [==============================] - 0s 2ms/step - loss: 0.4429 - accuracy: 0.8073\n",
      "Epoch 158/200\n",
      "77/77 [==============================] - 0s 2ms/step - loss: 0.4381 - accuracy: 0.7956\n",
      "Epoch 159/200\n",
      "77/77 [==============================] - 0s 2ms/step - loss: 0.4401 - accuracy: 0.7982\n",
      "Epoch 160/200\n",
      "77/77 [==============================] - 0s 1ms/step - loss: 0.4437 - accuracy: 0.8086\n",
      "Epoch 161/200\n",
      "77/77 [==============================] - 0s 1ms/step - loss: 0.4458 - accuracy: 0.7930\n",
      "Epoch 162/200\n",
      "77/77 [==============================] - 0s 1ms/step - loss: 0.4412 - accuracy: 0.7839\n",
      "Epoch 163/200\n",
      "77/77 [==============================] - 0s 2ms/step - loss: 0.4437 - accuracy: 0.7956\n",
      "Epoch 164/200\n"
     ]
    },
    {
     "name": "stdout",
     "output_type": "stream",
     "text": [
      "77/77 [==============================] - 0s 2ms/step - loss: 0.4463 - accuracy: 0.7982\n",
      "Epoch 165/200\n",
      "77/77 [==============================] - 0s 1ms/step - loss: 0.4353 - accuracy: 0.7982\n",
      "Epoch 166/200\n",
      "77/77 [==============================] - 0s 1ms/step - loss: 0.4622 - accuracy: 0.7969\n",
      "Epoch 167/200\n",
      "77/77 [==============================] - 0s 1ms/step - loss: 0.4472 - accuracy: 0.7917\n",
      "Epoch 168/200\n",
      "77/77 [==============================] - 0s 1ms/step - loss: 0.4618 - accuracy: 0.7826\n",
      "Epoch 169/200\n",
      "77/77 [==============================] - 0s 1ms/step - loss: 0.4438 - accuracy: 0.7812\n",
      "Epoch 170/200\n",
      "77/77 [==============================] - 0s 1ms/step - loss: 0.4365 - accuracy: 0.7982\n",
      "Epoch 171/200\n",
      "77/77 [==============================] - 0s 1ms/step - loss: 0.4303 - accuracy: 0.8086\n",
      "Epoch 172/200\n",
      "77/77 [==============================] - 0s 2ms/step - loss: 0.4522 - accuracy: 0.7878\n",
      "Epoch 173/200\n",
      "77/77 [==============================] - 0s 2ms/step - loss: 0.4380 - accuracy: 0.7956\n",
      "Epoch 174/200\n",
      "77/77 [==============================] - 0s 2ms/step - loss: 0.4391 - accuracy: 0.8008\n",
      "Epoch 175/200\n",
      "77/77 [==============================] - 0s 2ms/step - loss: 0.4499 - accuracy: 0.7904\n",
      "Epoch 176/200\n",
      "77/77 [==============================] - 0s 2ms/step - loss: 0.4355 - accuracy: 0.8034\n",
      "Epoch 177/200\n",
      "77/77 [==============================] - 0s 1ms/step - loss: 0.4410 - accuracy: 0.7852\n",
      "Epoch 178/200\n",
      "77/77 [==============================] - 0s 1ms/step - loss: 0.4365 - accuracy: 0.8047\n",
      "Epoch 179/200\n",
      "77/77 [==============================] - 0s 1ms/step - loss: 0.4360 - accuracy: 0.7917\n",
      "Epoch 180/200\n",
      "77/77 [==============================] - 0s 1ms/step - loss: 0.4356 - accuracy: 0.7956\n",
      "Epoch 181/200\n",
      "77/77 [==============================] - 0s 1ms/step - loss: 0.4410 - accuracy: 0.7930\n",
      "Epoch 182/200\n",
      "77/77 [==============================] - 0s 1ms/step - loss: 0.4380 - accuracy: 0.8021\n",
      "Epoch 183/200\n",
      "77/77 [==============================] - 0s 2ms/step - loss: 0.4387 - accuracy: 0.8047\n",
      "Epoch 184/200\n",
      "77/77 [==============================] - 0s 1ms/step - loss: 0.4423 - accuracy: 0.7995\n",
      "Epoch 185/200\n",
      "77/77 [==============================] - 0s 1ms/step - loss: 0.4444 - accuracy: 0.7969\n",
      "Epoch 186/200\n",
      "77/77 [==============================] - 0s 1ms/step - loss: 0.4351 - accuracy: 0.7982\n",
      "Epoch 187/200\n",
      "77/77 [==============================] - 0s 1ms/step - loss: 0.4402 - accuracy: 0.7995\n",
      "Epoch 188/200\n",
      "77/77 [==============================] - 0s 1ms/step - loss: 0.4432 - accuracy: 0.8073\n",
      "Epoch 189/200\n",
      "77/77 [==============================] - 0s 1ms/step - loss: 0.4404 - accuracy: 0.7969\n",
      "Epoch 190/200\n",
      "77/77 [==============================] - 0s 1ms/step - loss: 0.4602 - accuracy: 0.7878\n",
      "Epoch 191/200\n",
      "77/77 [==============================] - 0s 2ms/step - loss: 0.4590 - accuracy: 0.7930\n",
      "Epoch 192/200\n",
      "77/77 [==============================] - 0s 2ms/step - loss: 0.4295 - accuracy: 0.8112\n",
      "Epoch 193/200\n",
      "77/77 [==============================] - 0s 2ms/step - loss: 0.4340 - accuracy: 0.7930\n",
      "Epoch 194/200\n",
      "77/77 [==============================] - 0s 2ms/step - loss: 0.4252 - accuracy: 0.7969\n",
      "Epoch 195/200\n",
      "77/77 [==============================] - 0s 1ms/step - loss: 0.4322 - accuracy: 0.7995\n",
      "Epoch 196/200\n",
      "77/77 [==============================] - 0s 1ms/step - loss: 0.4480 - accuracy: 0.7995\n",
      "Epoch 197/200\n",
      "77/77 [==============================] - 0s 1ms/step - loss: 0.4190 - accuracy: 0.8073\n",
      "Epoch 198/200\n",
      "77/77 [==============================] - 0s 2ms/step - loss: 0.4388 - accuracy: 0.7891\n",
      "Epoch 199/200\n",
      "77/77 [==============================] - 0s 2ms/step - loss: 0.4304 - accuracy: 0.8060\n",
      "Epoch 200/200\n",
      "77/77 [==============================] - 0s 2ms/step - loss: 0.4388 - accuracy: 0.8008\n"
     ]
    },
    {
     "data": {
      "text/plain": [
       "<tensorflow.python.keras.callbacks.History at 0x7f386d40f2b0>"
      ]
     },
     "execution_count": 15,
     "metadata": {},
     "output_type": "execute_result"
    }
   ],
   "source": [
    "# train the model\n",
    "model.fit(X, Y, epochs=200, batch_size=10)"
   ]
  },
  {
   "cell_type": "code",
   "execution_count": 16,
   "metadata": {},
   "outputs": [
    {
     "name": "stdout",
     "output_type": "stream",
     "text": [
      "24/24 [==============================] - 0s 1ms/step - loss: 0.4119 - accuracy: 0.8138\n"
     ]
    }
   ],
   "source": [
    "# Evaluate the model\n",
    "scores = model.evaluate(X, Y)"
   ]
  },
  {
   "cell_type": "code",
   "execution_count": 17,
   "metadata": {},
   "outputs": [
    {
     "data": {
      "text/plain": [
       "[0.41187965869903564, 0.8138020634651184]"
      ]
     },
     "execution_count": 17,
     "metadata": {},
     "output_type": "execute_result"
    }
   ],
   "source": [
    "scores"
   ]
  },
  {
   "cell_type": "code",
   "execution_count": 22,
   "metadata": {},
   "outputs": [],
   "source": [
    "new = [[7,475,82,69,120,22.2,0.645,57]]"
   ]
  },
  {
   "cell_type": "code",
   "execution_count": 23,
   "metadata": {},
   "outputs": [
    {
     "data": {
      "text/plain": [
       "array([[0.99998]], dtype=float32)"
      ]
     },
     "execution_count": 23,
     "metadata": {},
     "output_type": "execute_result"
    }
   ],
   "source": [
    "model.predict(new)"
   ]
  },
  {
   "cell_type": "code",
   "execution_count": 24,
   "metadata": {},
   "outputs": [],
   "source": [
    "# Visualize"
   ]
  },
  {
   "cell_type": "code",
   "execution_count": 25,
   "metadata": {},
   "outputs": [],
   "source": [
    "from keras.utils import plot_model"
   ]
  },
  {
   "cell_type": "code",
   "execution_count": 28,
   "metadata": {},
   "outputs": [
    {
     "data": {
      "image/png": "[encoded data removed]",
      "text/plain": [
       "<IPython.core.display.Image object>"
      ]
     },
     "execution_count": 28,
     "metadata": {},
     "output_type": "execute_result"
    }
   ],
   "source": [
    "plot_model(model, show_shapes=True, show_layer_names=True,\n",
    "          to_file='neural_network.png')"
   ]
  },
  {
   "cell_type": "code",
   "execution_count": null,
   "metadata": {},
   "outputs": [],
   "source": []
  }
 ],
 "metadata": {
  "kernelspec": {
   "display_name": "Python 3",
   "language": "python",
   "name": "python3"
  },
  "language_info": {
   "codemirror_mode": {
    "name": "ipython",
    "version": 3
   },
   "file_extension": ".py",
   "mimetype": "text/x-python",
   "name": "python",
   "nbconvert_exporter": "python",
   "pygments_lexer": "ipython3",
   "version": "3.8.10"
  }
 },
 "nbformat": 4,
 "nbformat_minor": 4
}

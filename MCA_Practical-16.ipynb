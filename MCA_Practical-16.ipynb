{
 "cells": [
  {
   "cell_type": "code",
   "execution_count": 1,
   "metadata": {},
   "outputs": [],
   "source": [
    "# Write a program to implement RNN"
   ]
  },
  {
   "cell_type": "code",
   "execution_count": 2,
   "metadata": {},
   "outputs": [],
   "source": [
    "import matplotlib.pyplot as plt\n",
    "import pandas as pd\n",
    "import numpy as np"
   ]
  },
  {
   "cell_type": "code",
   "execution_count": 3,
   "metadata": {},
   "outputs": [],
   "source": [
    "# Data import \n",
    "df = pd.read_csv('Google_Stock_Price_Train.csv')"
   ]
  },
  {
   "cell_type": "code",
   "execution_count": 4,
   "metadata": {},
   "outputs": [
    {
     "data": {
      "text/html": [
       "<div>\n",
       "<style scoped>\n",
       "    .dataframe tbody tr th:only-of-type {\n",
       "        vertical-align: middle;\n",
       "    }\n",
       "\n",
       "    .dataframe tbody tr th {\n",
       "        vertical-align: top;\n",
       "    }\n",
       "\n",
       "    .dataframe thead th {\n",
       "        text-align: right;\n",
       "    }\n",
       "</style>\n",
       "<table border=\"1\" class=\"dataframe\">\n",
       "  <thead>\n",
       "    <tr style=\"text-align: right;\">\n",
       "      <th></th>\n",
       "      <th>Date</th>\n",
       "      <th>Open</th>\n",
       "      <th>High</th>\n",
       "      <th>Low</th>\n",
       "      <th>Close</th>\n",
       "      <th>Volume</th>\n",
       "    </tr>\n",
       "  </thead>\n",
       "  <tbody>\n",
       "    <tr>\n",
       "      <th>0</th>\n",
       "      <td>1/3/2012</td>\n",
       "      <td>325.25</td>\n",
       "      <td>332.83</td>\n",
       "      <td>324.97</td>\n",
       "      <td>663.59</td>\n",
       "      <td>7,380,500</td>\n",
       "    </tr>\n",
       "    <tr>\n",
       "      <th>1</th>\n",
       "      <td>1/4/2012</td>\n",
       "      <td>331.27</td>\n",
       "      <td>333.87</td>\n",
       "      <td>329.08</td>\n",
       "      <td>666.45</td>\n",
       "      <td>5,749,400</td>\n",
       "    </tr>\n",
       "    <tr>\n",
       "      <th>2</th>\n",
       "      <td>1/5/2012</td>\n",
       "      <td>329.83</td>\n",
       "      <td>330.75</td>\n",
       "      <td>326.89</td>\n",
       "      <td>657.21</td>\n",
       "      <td>6,590,300</td>\n",
       "    </tr>\n",
       "    <tr>\n",
       "      <th>3</th>\n",
       "      <td>1/6/2012</td>\n",
       "      <td>328.34</td>\n",
       "      <td>328.77</td>\n",
       "      <td>323.68</td>\n",
       "      <td>648.24</td>\n",
       "      <td>5,405,900</td>\n",
       "    </tr>\n",
       "    <tr>\n",
       "      <th>4</th>\n",
       "      <td>1/9/2012</td>\n",
       "      <td>322.04</td>\n",
       "      <td>322.29</td>\n",
       "      <td>309.46</td>\n",
       "      <td>620.76</td>\n",
       "      <td>11,688,800</td>\n",
       "    </tr>\n",
       "  </tbody>\n",
       "</table>\n",
       "</div>"
      ],
      "text/plain": [
       "       Date    Open    High     Low   Close      Volume\n",
       "0  1/3/2012  325.25  332.83  324.97  663.59   7,380,500\n",
       "1  1/4/2012  331.27  333.87  329.08  666.45   5,749,400\n",
       "2  1/5/2012  329.83  330.75  326.89  657.21   6,590,300\n",
       "3  1/6/2012  328.34  328.77  323.68  648.24   5,405,900\n",
       "4  1/9/2012  322.04  322.29  309.46  620.76  11,688,800"
      ]
     },
     "execution_count": 4,
     "metadata": {},
     "output_type": "execute_result"
    }
   ],
   "source": [
    "# first 5 entries\n",
    "df.head()"
   ]
  },
  {
   "cell_type": "code",
   "execution_count": 5,
   "metadata": {},
   "outputs": [
    {
     "data": {
      "text/plain": [
       "(1258, 6)"
      ]
     },
     "execution_count": 5,
     "metadata": {},
     "output_type": "execute_result"
    }
   ],
   "source": [
    "# Shape\n",
    "df.shape"
   ]
  },
  {
   "cell_type": "code",
   "execution_count": 6,
   "metadata": {},
   "outputs": [
    {
     "data": {
      "text/html": [
       "<div>\n",
       "<style scoped>\n",
       "    .dataframe tbody tr th:only-of-type {\n",
       "        vertical-align: middle;\n",
       "    }\n",
       "\n",
       "    .dataframe tbody tr th {\n",
       "        vertical-align: top;\n",
       "    }\n",
       "\n",
       "    .dataframe thead th {\n",
       "        text-align: right;\n",
       "    }\n",
       "</style>\n",
       "<table border=\"1\" class=\"dataframe\">\n",
       "  <thead>\n",
       "    <tr style=\"text-align: right;\">\n",
       "      <th></th>\n",
       "      <th>Open</th>\n",
       "      <th>High</th>\n",
       "      <th>Low</th>\n",
       "    </tr>\n",
       "  </thead>\n",
       "  <tbody>\n",
       "    <tr>\n",
       "      <th>count</th>\n",
       "      <td>1258.000000</td>\n",
       "      <td>1258.000000</td>\n",
       "      <td>1258.000000</td>\n",
       "    </tr>\n",
       "    <tr>\n",
       "      <th>mean</th>\n",
       "      <td>533.709833</td>\n",
       "      <td>537.880223</td>\n",
       "      <td>529.007409</td>\n",
       "    </tr>\n",
       "    <tr>\n",
       "      <th>std</th>\n",
       "      <td>151.904442</td>\n",
       "      <td>153.008811</td>\n",
       "      <td>150.552807</td>\n",
       "    </tr>\n",
       "    <tr>\n",
       "      <th>min</th>\n",
       "      <td>279.120000</td>\n",
       "      <td>281.210000</td>\n",
       "      <td>277.220000</td>\n",
       "    </tr>\n",
       "    <tr>\n",
       "      <th>25%</th>\n",
       "      <td>404.115000</td>\n",
       "      <td>406.765000</td>\n",
       "      <td>401.765000</td>\n",
       "    </tr>\n",
       "    <tr>\n",
       "      <th>50%</th>\n",
       "      <td>537.470000</td>\n",
       "      <td>540.750000</td>\n",
       "      <td>532.990000</td>\n",
       "    </tr>\n",
       "    <tr>\n",
       "      <th>75%</th>\n",
       "      <td>654.922500</td>\n",
       "      <td>662.587500</td>\n",
       "      <td>644.800000</td>\n",
       "    </tr>\n",
       "    <tr>\n",
       "      <th>max</th>\n",
       "      <td>816.680000</td>\n",
       "      <td>816.680000</td>\n",
       "      <td>805.140000</td>\n",
       "    </tr>\n",
       "  </tbody>\n",
       "</table>\n",
       "</div>"
      ],
      "text/plain": [
       "              Open         High          Low\n",
       "count  1258.000000  1258.000000  1258.000000\n",
       "mean    533.709833   537.880223   529.007409\n",
       "std     151.904442   153.008811   150.552807\n",
       "min     279.120000   281.210000   277.220000\n",
       "25%     404.115000   406.765000   401.765000\n",
       "50%     537.470000   540.750000   532.990000\n",
       "75%     654.922500   662.587500   644.800000\n",
       "max     816.680000   816.680000   805.140000"
      ]
     },
     "execution_count": 6,
     "metadata": {},
     "output_type": "execute_result"
    }
   ],
   "source": [
    "df.describe()"
   ]
  },
  {
   "cell_type": "code",
   "execution_count": 7,
   "metadata": {},
   "outputs": [
    {
     "name": "stdout",
     "output_type": "stream",
     "text": [
      "<class 'pandas.core.frame.DataFrame'>\n",
      "RangeIndex: 1258 entries, 0 to 1257\n",
      "Data columns (total 6 columns):\n",
      " #   Column  Non-Null Count  Dtype  \n",
      "---  ------  --------------  -----  \n",
      " 0   Date    1258 non-null   object \n",
      " 1   Open    1258 non-null   float64\n",
      " 2   High    1258 non-null   float64\n",
      " 3   Low     1258 non-null   float64\n",
      " 4   Close   1258 non-null   object \n",
      " 5   Volume  1258 non-null   object \n",
      "dtypes: float64(3), object(3)\n",
      "memory usage: 59.1+ KB\n"
     ]
    }
   ],
   "source": [
    "df.info()"
   ]
  },
  {
   "cell_type": "code",
   "execution_count": 8,
   "metadata": {},
   "outputs": [],
   "source": [
    "training_set = df.iloc[:,[1,2]].values"
   ]
  },
  {
   "cell_type": "code",
   "execution_count": 10,
   "metadata": {},
   "outputs": [
    {
     "data": {
      "text/plain": [
       "[<matplotlib.lines.Line2D at 0x7f49c1eb45b0>,\n",
       " <matplotlib.lines.Line2D at 0x7f49c1eb45e0>]"
      ]
     },
     "execution_count": 10,
     "metadata": {},
     "output_type": "execute_result"
    },
    {
     "data": {
      "image/png": "[encoded data removed]",
      "text/plain": [
       "<Figure size 432x288 with 1 Axes>"
      ]
     },
     "metadata": {
      "needs_background": "light"
     },
     "output_type": "display_data"
    }
   ],
   "source": [
    "# Visualize the trend\n",
    "plt.plot(training_set)"
   ]
  },
  {
   "cell_type": "code",
   "execution_count": 11,
   "metadata": {},
   "outputs": [],
   "source": [
    "# Feature scaling\n",
    "from sklearn.preprocessing import MinMaxScaler\n",
    "scaler = MinMaxScaler()\n",
    "training_set_scaled = scaler.fit_transform(training_set)"
   ]
  },
  {
   "cell_type": "code",
   "execution_count": 12,
   "metadata": {},
   "outputs": [
    {
     "data": {
      "text/plain": [
       "array([[0.08581368, 0.09640129],\n",
       "       [0.09701243, 0.09834351],\n",
       "       [0.09433366, 0.09251685],\n",
       "       ...,\n",
       "       [0.95725128, 0.95807422],\n",
       "       [0.93796041, 0.94257381],\n",
       "       [0.93688146, 0.93669113]])"
      ]
     },
     "execution_count": 12,
     "metadata": {},
     "output_type": "execute_result"
    }
   ],
   "source": [
    "# The scaled data\n",
    "training_set_scaled"
   ]
  },
  {
   "cell_type": "code",
   "execution_count": 13,
   "metadata": {},
   "outputs": [
    {
     "data": {
      "text/plain": [
       "[<matplotlib.lines.Line2D at 0x7f49a3e53190>,\n",
       " <matplotlib.lines.Line2D at 0x7f49a40239a0>]"
      ]
     },
     "execution_count": 13,
     "metadata": {},
     "output_type": "execute_result"
    },
    {
     "data": {
      "image/png": "[encoded data removed]",
      "text/plain": [
       "<Figure size 432x288 with 1 Axes>"
      ]
     },
     "metadata": {
      "needs_background": "light"
     },
     "output_type": "display_data"
    }
   ],
   "source": [
    "# plot the scaled data\n",
    "plt.plot(training_set_scaled)"
   ]
  },
  {
   "cell_type": "code",
   "execution_count": 14,
   "metadata": {},
   "outputs": [],
   "source": [
    "X_train = []\n",
    "y_train = []\n",
    "for i in range(60, 1258):\n",
    "    X_train.append(training_set_scaled[i-60:i, 0])\n",
    "    y_train.append(training_set_scaled[i, 0])\n",
    "X_train, y_train = np.array(X_train), np.array(y_train)"
   ]
  },
  {
   "cell_type": "code",
   "execution_count": 18,
   "metadata": {},
   "outputs": [
    {
     "data": {
      "text/plain": [
       "(1198,)"
      ]
     },
     "execution_count": 18,
     "metadata": {},
     "output_type": "execute_result"
    }
   ],
   "source": [
    "y_train.shape"
   ]
  },
  {
   "cell_type": "code",
   "execution_count": 19,
   "metadata": {},
   "outputs": [
    {
     "data": {
      "text/plain": [
       "(1198, 60)"
      ]
     },
     "execution_count": 19,
     "metadata": {},
     "output_type": "execute_result"
    }
   ],
   "source": [
    "X_train.shape"
   ]
  },
  {
   "cell_type": "code",
   "execution_count": 20,
   "metadata": {},
   "outputs": [],
   "source": [
    "X_train = np.reshape(X_train, (X_train.shape[0], X_train.shape[1], 1))"
   ]
  },
  {
   "cell_type": "code",
   "execution_count": 21,
   "metadata": {},
   "outputs": [
    {
     "data": {
      "text/plain": [
       "(1198, 60, 1)"
      ]
     },
     "execution_count": 21,
     "metadata": {},
     "output_type": "execute_result"
    }
   ],
   "source": [
    "X_train.shape"
   ]
  },
  {
   "cell_type": "code",
   "execution_count": 22,
   "metadata": {},
   "outputs": [],
   "source": [
    "# Import the classes\n",
    "from keras.models import Sequential\n",
    "from keras.layers import Dense\n",
    "from keras.layers import LSTM\n",
    "from keras.layers import Dropout"
   ]
  },
  {
   "cell_type": "code",
   "execution_count": 23,
   "metadata": {},
   "outputs": [],
   "source": [
    "# Create the model\n",
    "regressor = Sequential()"
   ]
  },
  {
   "cell_type": "code",
   "execution_count": 27,
   "metadata": {},
   "outputs": [],
   "source": [
    "# add LSTM layer\n",
    "regressor.add(LSTM(units = 50, return_sequences = True,\n",
    "             input_shape = (X_train.shape[1], 1)))"
   ]
  },
  {
   "cell_type": "code",
   "execution_count": 28,
   "metadata": {},
   "outputs": [],
   "source": [
    "regressor.add(LSTM(units = 50, return_sequences = True))\n",
    "regressor.add(Dropout(0.2))"
   ]
  },
  {
   "cell_type": "code",
   "execution_count": 29,
   "metadata": {},
   "outputs": [],
   "source": [
    "regressor.add(LSTM(units = 50, return_sequences = True))\n",
    "regressor.add(Dropout(0.2))"
   ]
  },
  {
   "cell_type": "code",
   "execution_count": 30,
   "metadata": {},
   "outputs": [],
   "source": [
    "regressor.add(LSTM(units = 50))\n",
    "regressor.add(Dropout(0.2))"
   ]
  },
  {
   "cell_type": "code",
   "execution_count": 31,
   "metadata": {},
   "outputs": [],
   "source": [
    "# Output layer\n",
    "regressor.add(Dense(1))"
   ]
  },
  {
   "cell_type": "code",
   "execution_count": 32,
   "metadata": {},
   "outputs": [],
   "source": [
    "# Compile the model\n",
    "regressor.compile(optimizer='adam', loss='mean_squared_error')"
   ]
  },
  {
   "cell_type": "code",
   "execution_count": 33,
   "metadata": {},
   "outputs": [
    {
     "name": "stdout",
     "output_type": "stream",
     "text": [
      "Epoch 1/100\n",
      "38/38 [==============================] - 4s 96ms/step - loss: 0.0354\n",
      "Epoch 2/100\n",
      "38/38 [==============================] - 4s 99ms/step - loss: 0.0061\n",
      "Epoch 3/100\n",
      "38/38 [==============================] - 4s 106ms/step - loss: 0.0057\n",
      "Epoch 4/100\n",
      "38/38 [==============================] - 4s 102ms/step - loss: 0.0056\n",
      "Epoch 5/100\n",
      "38/38 [==============================] - 4s 115ms/step - loss: 0.0046\n",
      "Epoch 6/100\n",
      "38/38 [==============================] - 4s 100ms/step - loss: 0.0044\n",
      "Epoch 7/100\n",
      "38/38 [==============================] - 4s 107ms/step - loss: 0.0045\n",
      "Epoch 8/100\n",
      "38/38 [==============================] - 4s 96ms/step - loss: 0.0053\n",
      "Epoch 9/100\n",
      "38/38 [==============================] - 4s 98ms/step - loss: 0.0050\n",
      "Epoch 10/100\n",
      "38/38 [==============================] - 4s 97ms/step - loss: 0.0041\n",
      "Epoch 11/100\n",
      "38/38 [==============================] - 5s 119ms/step - loss: 0.0043\n",
      "Epoch 12/100\n",
      "38/38 [==============================] - 4s 110ms/step - loss: 0.0039\n",
      "Epoch 13/100\n",
      "38/38 [==============================] - 4s 96ms/step - loss: 0.0040\n",
      "Epoch 14/100\n",
      "38/38 [==============================] - 4s 98ms/step - loss: 0.0040\n",
      "Epoch 15/100\n",
      "38/38 [==============================] - 4s 103ms/step - loss: 0.0038\n",
      "Epoch 16/100\n",
      "38/38 [==============================] - 4s 95ms/step - loss: 0.0037\n",
      "Epoch 17/100\n",
      "38/38 [==============================] - 4s 99ms/step - loss: 0.0035\n",
      "Epoch 18/100\n",
      "38/38 [==============================] - 5s 129ms/step - loss: 0.0035\n",
      "Epoch 19/100\n",
      "38/38 [==============================] - 4s 103ms/step - loss: 0.0033\n",
      "Epoch 20/100\n",
      "38/38 [==============================] - 4s 109ms/step - loss: 0.0032\n",
      "Epoch 21/100\n",
      "38/38 [==============================] - 4s 99ms/step - loss: 0.0032\n",
      "Epoch 22/100\n",
      "38/38 [==============================] - 4s 95ms/step - loss: 0.0029\n",
      "Epoch 23/100\n",
      "38/38 [==============================] - 4s 94ms/step - loss: 0.0031\n",
      "Epoch 24/100\n",
      "38/38 [==============================] - 4s 94ms/step - loss: 0.0030\n",
      "Epoch 25/100\n",
      "38/38 [==============================] - 4s 94ms/step - loss: 0.0030\n",
      "Epoch 26/100\n",
      "38/38 [==============================] - 4s 94ms/step - loss: 0.0031\n",
      "Epoch 27/100\n",
      "38/38 [==============================] - 4s 97ms/step - loss: 0.0030\n",
      "Epoch 28/100\n",
      "38/38 [==============================] - 4s 94ms/step - loss: 0.0031\n",
      "Epoch 29/100\n",
      "38/38 [==============================] - 3s 92ms/step - loss: 0.0028\n",
      "Epoch 30/100\n",
      "38/38 [==============================] - 4s 92ms/step - loss: 0.0029\n",
      "Epoch 31/100\n",
      "38/38 [==============================] - 4s 97ms/step - loss: 0.0031\n",
      "Epoch 32/100\n",
      "38/38 [==============================] - 4s 92ms/step - loss: 0.0027\n",
      "Epoch 33/100\n",
      "38/38 [==============================] - 3s 92ms/step - loss: 0.0031\n",
      "Epoch 34/100\n",
      "38/38 [==============================] - 3s 92ms/step - loss: 0.0028\n",
      "Epoch 35/100\n",
      "38/38 [==============================] - 4s 93ms/step - loss: 0.0027\n",
      "Epoch 36/100\n",
      "38/38 [==============================] - 3s 91ms/step - loss: 0.0026\n",
      "Epoch 37/100\n",
      "38/38 [==============================] - 4s 92ms/step - loss: 0.0024\n",
      "Epoch 38/100\n",
      "38/38 [==============================] - 4s 95ms/step - loss: 0.0026\n",
      "Epoch 39/100\n",
      "38/38 [==============================] - 4s 98ms/step - loss: 0.0025\n",
      "Epoch 40/100\n",
      "38/38 [==============================] - 3s 92ms/step - loss: 0.0025\n",
      "Epoch 41/100\n",
      "38/38 [==============================] - 4s 95ms/step - loss: 0.0029\n",
      "Epoch 42/100\n",
      "38/38 [==============================] - 4s 96ms/step - loss: 0.0025\n",
      "Epoch 43/100\n",
      "38/38 [==============================] - 4s 92ms/step - loss: 0.0025\n",
      "Epoch 44/100\n",
      "38/38 [==============================] - 4s 98ms/step - loss: 0.0025\n",
      "Epoch 45/100\n",
      "38/38 [==============================] - 3s 92ms/step - loss: 0.0024\n",
      "Epoch 46/100\n",
      "38/38 [==============================] - 4s 93ms/step - loss: 0.0025\n",
      "Epoch 47/100\n",
      "38/38 [==============================] - 4s 94ms/step - loss: 0.0024\n",
      "Epoch 48/100\n",
      "38/38 [==============================] - 4s 93ms/step - loss: 0.0023\n",
      "Epoch 49/100\n",
      "38/38 [==============================] - 4s 93ms/step - loss: 0.0021\n",
      "Epoch 50/100\n",
      "38/38 [==============================] - 4s 93ms/step - loss: 0.0023\n",
      "Epoch 51/100\n",
      "38/38 [==============================] - 3s 92ms/step - loss: 0.0021\n",
      "Epoch 52/100\n",
      "38/38 [==============================] - 4s 92ms/step - loss: 0.0023\n",
      "Epoch 53/100\n",
      "38/38 [==============================] - 4s 93ms/step - loss: 0.0022\n",
      "Epoch 54/100\n",
      "38/38 [==============================] - 4s 95ms/step - loss: 0.0021\n",
      "Epoch 55/100\n",
      "38/38 [==============================] - 5s 123ms/step - loss: 0.0024\n",
      "Epoch 56/100\n",
      "38/38 [==============================] - 4s 97ms/step - loss: 0.0022\n",
      "Epoch 57/100\n",
      "38/38 [==============================] - 4s 98ms/step - loss: 0.0024\n",
      "Epoch 58/100\n",
      "38/38 [==============================] - 4s 95ms/step - loss: 0.0024\n",
      "Epoch 59/100\n",
      "38/38 [==============================] - 4s 95ms/step - loss: 0.0021\n",
      "Epoch 60/100\n",
      "38/38 [==============================] - 4s 94ms/step - loss: 0.0021\n",
      "Epoch 61/100\n",
      "38/38 [==============================] - 4s 95ms/step - loss: 0.0020\n",
      "Epoch 62/100\n",
      "38/38 [==============================] - 4s 93ms/step - loss: 0.0017\n",
      "Epoch 63/100\n",
      "38/38 [==============================] - 4s 95ms/step - loss: 0.0018\n",
      "Epoch 64/100\n",
      "38/38 [==============================] - 4s 98ms/step - loss: 0.0020\n",
      "Epoch 65/100\n",
      "38/38 [==============================] - 4s 98ms/step - loss: 0.0018\n",
      "Epoch 66/100\n",
      "38/38 [==============================] - 4s 97ms/step - loss: 0.0021\n",
      "Epoch 67/100\n",
      "38/38 [==============================] - 4s 97ms/step - loss: 0.0020\n",
      "Epoch 68/100\n",
      "38/38 [==============================] - 4s 94ms/step - loss: 0.0018\n",
      "Epoch 69/100\n",
      "38/38 [==============================] - 4s 98ms/step - loss: 0.0017\n",
      "Epoch 70/100\n",
      "38/38 [==============================] - 4s 93ms/step - loss: 0.0020\n",
      "Epoch 71/100\n",
      "38/38 [==============================] - 4s 93ms/step - loss: 0.0016\n",
      "Epoch 72/100\n",
      "38/38 [==============================] - 4s 93ms/step - loss: 0.0017\n",
      "Epoch 73/100\n",
      "38/38 [==============================] - 4s 93ms/step - loss: 0.0019\n",
      "Epoch 74/100\n",
      "38/38 [==============================] - 4s 99ms/step - loss: 0.0017\n",
      "Epoch 75/100\n",
      "38/38 [==============================] - 4s 96ms/step - loss: 0.0019\n",
      "Epoch 76/100\n",
      "38/38 [==============================] - 4s 97ms/step - loss: 0.0016\n",
      "Epoch 77/100\n",
      "38/38 [==============================] - 4s 97ms/step - loss: 0.0015\n",
      "Epoch 78/100\n",
      "38/38 [==============================] - 4s 94ms/step - loss: 0.0016\n",
      "Epoch 79/100\n",
      "38/38 [==============================] - 4s 103ms/step - loss: 0.0016\n",
      "Epoch 80/100\n",
      "38/38 [==============================] - 4s 99ms/step - loss: 0.0016\n",
      "Epoch 81/100\n",
      "38/38 [==============================] - 4s 93ms/step - loss: 0.0017\n",
      "Epoch 82/100\n",
      "38/38 [==============================] - 4s 94ms/step - loss: 0.0015\n",
      "Epoch 83/100\n",
      "38/38 [==============================] - 4s 98ms/step - loss: 0.0015\n",
      "Epoch 84/100\n",
      "38/38 [==============================] - 4s 97ms/step - loss: 0.0014\n",
      "Epoch 85/100\n",
      "38/38 [==============================] - 4s 97ms/step - loss: 0.0015\n",
      "Epoch 86/100\n",
      "38/38 [==============================] - 4s 94ms/step - loss: 0.0015\n",
      "Epoch 87/100\n",
      "38/38 [==============================] - 4s 98ms/step - loss: 0.0016\n",
      "Epoch 88/100\n",
      "38/38 [==============================] - 4s 95ms/step - loss: 0.0013\n",
      "Epoch 89/100\n",
      "38/38 [==============================] - 4s 99ms/step - loss: 0.0014\n",
      "Epoch 90/100\n",
      "38/38 [==============================] - 4s 93ms/step - loss: 0.0014\n",
      "Epoch 91/100\n",
      "38/38 [==============================] - 4s 97ms/step - loss: 0.0015\n",
      "Epoch 92/100\n",
      "38/38 [==============================] - 4s 98ms/step - loss: 0.0014\n",
      "Epoch 93/100\n",
      "38/38 [==============================] - 4s 93ms/step - loss: 0.0015\n",
      "Epoch 94/100\n",
      "38/38 [==============================] - 4s 100ms/step - loss: 0.0014\n",
      "Epoch 95/100\n",
      "38/38 [==============================] - 4s 98ms/step - loss: 0.0014\n",
      "Epoch 96/100\n",
      "38/38 [==============================] - 4s 100ms/step - loss: 0.0013\n",
      "Epoch 97/100\n",
      "38/38 [==============================] - 4s 94ms/step - loss: 0.0012\n",
      "Epoch 98/100\n",
      "38/38 [==============================] - 4s 100ms/step - loss: 0.0012\n",
      "Epoch 99/100\n",
      "38/38 [==============================] - 4s 100ms/step - loss: 0.0013\n",
      "Epoch 100/100\n"
     ]
    },
    {
     "name": "stdout",
     "output_type": "stream",
     "text": [
      "38/38 [==============================] - 4s 94ms/step - loss: 0.0012\n"
     ]
    },
    {
     "data": {
      "text/plain": [
       "<tensorflow.python.keras.callbacks.History at 0x7f4950f8e550>"
      ]
     },
     "execution_count": 33,
     "metadata": {},
     "output_type": "execute_result"
    }
   ],
   "source": [
    "# Train the algorithm\n",
    "regressor.fit(X_train, y_train, epochs=100, batch_size = 32)"
   ]
  },
  {
   "cell_type": "code",
   "execution_count": 34,
   "metadata": {},
   "outputs": [],
   "source": [
    "testing_set = pd.read_csv('Google_Stock_Price_Test.csv')"
   ]
  },
  {
   "cell_type": "code",
   "execution_count": 35,
   "metadata": {},
   "outputs": [
    {
     "data": {
      "text/plain": [
       "(20, 6)"
      ]
     },
     "execution_count": 35,
     "metadata": {},
     "output_type": "execute_result"
    }
   ],
   "source": [
    "testing_set.shape"
   ]
  },
  {
   "cell_type": "code",
   "execution_count": 36,
   "metadata": {},
   "outputs": [
    {
     "data": {
      "text/html": [
       "<div>\n",
       "<style scoped>\n",
       "    .dataframe tbody tr th:only-of-type {\n",
       "        vertical-align: middle;\n",
       "    }\n",
       "\n",
       "    .dataframe tbody tr th {\n",
       "        vertical-align: top;\n",
       "    }\n",
       "\n",
       "    .dataframe thead th {\n",
       "        text-align: right;\n",
       "    }\n",
       "</style>\n",
       "<table border=\"1\" class=\"dataframe\">\n",
       "  <thead>\n",
       "    <tr style=\"text-align: right;\">\n",
       "      <th></th>\n",
       "      <th>Date</th>\n",
       "      <th>Open</th>\n",
       "      <th>High</th>\n",
       "      <th>Low</th>\n",
       "      <th>Close</th>\n",
       "      <th>Volume</th>\n",
       "    </tr>\n",
       "  </thead>\n",
       "  <tbody>\n",
       "    <tr>\n",
       "      <th>0</th>\n",
       "      <td>1/3/2017</td>\n",
       "      <td>778.81</td>\n",
       "      <td>789.63</td>\n",
       "      <td>775.80</td>\n",
       "      <td>786.14</td>\n",
       "      <td>1,657,300</td>\n",
       "    </tr>\n",
       "    <tr>\n",
       "      <th>1</th>\n",
       "      <td>1/4/2017</td>\n",
       "      <td>788.36</td>\n",
       "      <td>791.34</td>\n",
       "      <td>783.16</td>\n",
       "      <td>786.90</td>\n",
       "      <td>1,073,000</td>\n",
       "    </tr>\n",
       "    <tr>\n",
       "      <th>2</th>\n",
       "      <td>1/5/2017</td>\n",
       "      <td>786.08</td>\n",
       "      <td>794.48</td>\n",
       "      <td>785.02</td>\n",
       "      <td>794.02</td>\n",
       "      <td>1,335,200</td>\n",
       "    </tr>\n",
       "    <tr>\n",
       "      <th>3</th>\n",
       "      <td>1/6/2017</td>\n",
       "      <td>795.26</td>\n",
       "      <td>807.90</td>\n",
       "      <td>792.20</td>\n",
       "      <td>806.15</td>\n",
       "      <td>1,640,200</td>\n",
       "    </tr>\n",
       "    <tr>\n",
       "      <th>4</th>\n",
       "      <td>1/9/2017</td>\n",
       "      <td>806.40</td>\n",
       "      <td>809.97</td>\n",
       "      <td>802.83</td>\n",
       "      <td>806.65</td>\n",
       "      <td>1,272,400</td>\n",
       "    </tr>\n",
       "    <tr>\n",
       "      <th>5</th>\n",
       "      <td>1/10/2017</td>\n",
       "      <td>807.86</td>\n",
       "      <td>809.13</td>\n",
       "      <td>803.51</td>\n",
       "      <td>804.79</td>\n",
       "      <td>1,176,800</td>\n",
       "    </tr>\n",
       "    <tr>\n",
       "      <th>6</th>\n",
       "      <td>1/11/2017</td>\n",
       "      <td>805.00</td>\n",
       "      <td>808.15</td>\n",
       "      <td>801.37</td>\n",
       "      <td>807.91</td>\n",
       "      <td>1,065,900</td>\n",
       "    </tr>\n",
       "    <tr>\n",
       "      <th>7</th>\n",
       "      <td>1/12/2017</td>\n",
       "      <td>807.14</td>\n",
       "      <td>807.39</td>\n",
       "      <td>799.17</td>\n",
       "      <td>806.36</td>\n",
       "      <td>1,353,100</td>\n",
       "    </tr>\n",
       "    <tr>\n",
       "      <th>8</th>\n",
       "      <td>1/13/2017</td>\n",
       "      <td>807.48</td>\n",
       "      <td>811.22</td>\n",
       "      <td>806.69</td>\n",
       "      <td>807.88</td>\n",
       "      <td>1,099,200</td>\n",
       "    </tr>\n",
       "    <tr>\n",
       "      <th>9</th>\n",
       "      <td>1/17/2017</td>\n",
       "      <td>807.08</td>\n",
       "      <td>807.14</td>\n",
       "      <td>800.37</td>\n",
       "      <td>804.61</td>\n",
       "      <td>1,362,100</td>\n",
       "    </tr>\n",
       "    <tr>\n",
       "      <th>10</th>\n",
       "      <td>1/18/2017</td>\n",
       "      <td>805.81</td>\n",
       "      <td>806.21</td>\n",
       "      <td>800.99</td>\n",
       "      <td>806.07</td>\n",
       "      <td>1,294,400</td>\n",
       "    </tr>\n",
       "    <tr>\n",
       "      <th>11</th>\n",
       "      <td>1/19/2017</td>\n",
       "      <td>805.12</td>\n",
       "      <td>809.48</td>\n",
       "      <td>801.80</td>\n",
       "      <td>802.17</td>\n",
       "      <td>919,300</td>\n",
       "    </tr>\n",
       "    <tr>\n",
       "      <th>12</th>\n",
       "      <td>1/20/2017</td>\n",
       "      <td>806.91</td>\n",
       "      <td>806.91</td>\n",
       "      <td>801.69</td>\n",
       "      <td>805.02</td>\n",
       "      <td>1,670,000</td>\n",
       "    </tr>\n",
       "    <tr>\n",
       "      <th>13</th>\n",
       "      <td>1/23/2017</td>\n",
       "      <td>807.25</td>\n",
       "      <td>820.87</td>\n",
       "      <td>803.74</td>\n",
       "      <td>819.31</td>\n",
       "      <td>1,963,600</td>\n",
       "    </tr>\n",
       "    <tr>\n",
       "      <th>14</th>\n",
       "      <td>1/24/2017</td>\n",
       "      <td>822.30</td>\n",
       "      <td>825.90</td>\n",
       "      <td>817.82</td>\n",
       "      <td>823.87</td>\n",
       "      <td>1,474,000</td>\n",
       "    </tr>\n",
       "    <tr>\n",
       "      <th>15</th>\n",
       "      <td>1/25/2017</td>\n",
       "      <td>829.62</td>\n",
       "      <td>835.77</td>\n",
       "      <td>825.06</td>\n",
       "      <td>835.67</td>\n",
       "      <td>1,494,500</td>\n",
       "    </tr>\n",
       "    <tr>\n",
       "      <th>16</th>\n",
       "      <td>1/26/2017</td>\n",
       "      <td>837.81</td>\n",
       "      <td>838.00</td>\n",
       "      <td>827.01</td>\n",
       "      <td>832.15</td>\n",
       "      <td>2,973,900</td>\n",
       "    </tr>\n",
       "    <tr>\n",
       "      <th>17</th>\n",
       "      <td>1/27/2017</td>\n",
       "      <td>834.71</td>\n",
       "      <td>841.95</td>\n",
       "      <td>820.44</td>\n",
       "      <td>823.31</td>\n",
       "      <td>2,965,800</td>\n",
       "    </tr>\n",
       "    <tr>\n",
       "      <th>18</th>\n",
       "      <td>1/30/2017</td>\n",
       "      <td>814.66</td>\n",
       "      <td>815.84</td>\n",
       "      <td>799.80</td>\n",
       "      <td>802.32</td>\n",
       "      <td>3,246,600</td>\n",
       "    </tr>\n",
       "    <tr>\n",
       "      <th>19</th>\n",
       "      <td>1/31/2017</td>\n",
       "      <td>796.86</td>\n",
       "      <td>801.25</td>\n",
       "      <td>790.52</td>\n",
       "      <td>796.79</td>\n",
       "      <td>2,160,600</td>\n",
       "    </tr>\n",
       "  </tbody>\n",
       "</table>\n",
       "</div>"
      ],
      "text/plain": [
       "         Date    Open    High     Low   Close     Volume\n",
       "0    1/3/2017  778.81  789.63  775.80  786.14  1,657,300\n",
       "1    1/4/2017  788.36  791.34  783.16  786.90  1,073,000\n",
       "2    1/5/2017  786.08  794.48  785.02  794.02  1,335,200\n",
       "3    1/6/2017  795.26  807.90  792.20  806.15  1,640,200\n",
       "4    1/9/2017  806.40  809.97  802.83  806.65  1,272,400\n",
       "5   1/10/2017  807.86  809.13  803.51  804.79  1,176,800\n",
       "6   1/11/2017  805.00  808.15  801.37  807.91  1,065,900\n",
       "7   1/12/2017  807.14  807.39  799.17  806.36  1,353,100\n",
       "8   1/13/2017  807.48  811.22  806.69  807.88  1,099,200\n",
       "9   1/17/2017  807.08  807.14  800.37  804.61  1,362,100\n",
       "10  1/18/2017  805.81  806.21  800.99  806.07  1,294,400\n",
       "11  1/19/2017  805.12  809.48  801.80  802.17    919,300\n",
       "12  1/20/2017  806.91  806.91  801.69  805.02  1,670,000\n",
       "13  1/23/2017  807.25  820.87  803.74  819.31  1,963,600\n",
       "14  1/24/2017  822.30  825.90  817.82  823.87  1,474,000\n",
       "15  1/25/2017  829.62  835.77  825.06  835.67  1,494,500\n",
       "16  1/26/2017  837.81  838.00  827.01  832.15  2,973,900\n",
       "17  1/27/2017  834.71  841.95  820.44  823.31  2,965,800\n",
       "18  1/30/2017  814.66  815.84  799.80  802.32  3,246,600\n",
       "19  1/31/2017  796.86  801.25  790.52  796.79  2,160,600"
      ]
     },
     "execution_count": 36,
     "metadata": {},
     "output_type": "execute_result"
    }
   ],
   "source": [
    "testing_set"
   ]
  },
  {
   "cell_type": "code",
   "execution_count": 37,
   "metadata": {},
   "outputs": [],
   "source": [
    "real_stock_price = testing_set.iloc[:,[1,2]].values"
   ]
  },
  {
   "cell_type": "code",
   "execution_count": 38,
   "metadata": {},
   "outputs": [
    {
     "data": {
      "text/plain": [
       "array([[778.81, 789.63],\n",
       "       [788.36, 791.34],\n",
       "       [786.08, 794.48],\n",
       "       [795.26, 807.9 ],\n",
       "       [806.4 , 809.97],\n",
       "       [807.86, 809.13],\n",
       "       [805.  , 808.15],\n",
       "       [807.14, 807.39],\n",
       "       [807.48, 811.22],\n",
       "       [807.08, 807.14],\n",
       "       [805.81, 806.21],\n",
       "       [805.12, 809.48],\n",
       "       [806.91, 806.91],\n",
       "       [807.25, 820.87],\n",
       "       [822.3 , 825.9 ],\n",
       "       [829.62, 835.77],\n",
       "       [837.81, 838.  ],\n",
       "       [834.71, 841.95],\n",
       "       [814.66, 815.84],\n",
       "       [796.86, 801.25]])"
      ]
     },
     "execution_count": 38,
     "metadata": {},
     "output_type": "execute_result"
    }
   ],
   "source": [
    "real_stock_price"
   ]
  },
  {
   "cell_type": "code",
   "execution_count": 42,
   "metadata": {},
   "outputs": [],
   "source": [
    "dataset_total = pd.concat((df['Open'], \n",
    "                           testing_set['Open']), axis = 0)"
   ]
  },
  {
   "cell_type": "code",
   "execution_count": 43,
   "metadata": {},
   "outputs": [
    {
     "data": {
      "text/plain": [
       "0     325.25\n",
       "1     331.27\n",
       "2     329.83\n",
       "3     328.34\n",
       "4     322.04\n",
       "       ...  \n",
       "15    829.62\n",
       "16    837.81\n",
       "17    834.71\n",
       "18    814.66\n",
       "19    796.86\n",
       "Name: Open, Length: 1278, dtype: float64"
      ]
     },
     "execution_count": 43,
     "metadata": {},
     "output_type": "execute_result"
    }
   ],
   "source": [
    "dataset_total"
   ]
  },
  {
   "cell_type": "code",
   "execution_count": 45,
   "metadata": {},
   "outputs": [],
   "source": [
    "inputs = dataset_total[len(dataset_total) - \n",
    "                       len(testing_set) - 60:].values"
   ]
  },
  {
   "cell_type": "code",
   "execution_count": 47,
   "metadata": {},
   "outputs": [
    {
     "data": {
      "text/plain": [
       "(80,)"
      ]
     },
     "execution_count": 47,
     "metadata": {},
     "output_type": "execute_result"
    }
   ],
   "source": [
    "inputs.shape"
   ]
  },
  {
   "cell_type": "code",
   "execution_count": 51,
   "metadata": {},
   "outputs": [],
   "source": [
    "inputs = inputs.reshape(-1,2)"
   ]
  },
  {
   "cell_type": "code",
   "execution_count": 52,
   "metadata": {},
   "outputs": [
    {
     "data": {
      "text/plain": [
       "(40, 2)"
      ]
     },
     "execution_count": 52,
     "metadata": {},
     "output_type": "execute_result"
    }
   ],
   "source": [
    "inputs.shape"
   ]
  },
  {
   "cell_type": "code",
   "execution_count": 53,
   "metadata": {},
   "outputs": [],
   "source": [
    "# Perform the scaling\n",
    "inputs = scaler.transform(inputs)"
   ]
  },
  {
   "cell_type": "code",
   "execution_count": 54,
   "metadata": {},
   "outputs": [
    {
     "data": {
      "text/plain": [
       "array([[0.9299055 , 0.93086447],\n",
       "       [0.92750577, 0.9439371 ],\n",
       "       [0.93876032, 0.9337778 ],\n",
       "       [0.93483518, 0.93112593],\n",
       "       [0.94636878, 0.96556296],\n",
       "       [0.97510976, 0.9595122 ],\n",
       "       [0.97808617, 1.        ],\n",
       "       [0.98076494, 0.97071731],\n",
       "       [0.98450406, 0.96038994],\n",
       "       [0.9371419 , 0.9281379 ],\n",
       "       [0.90804747, 0.87670644],\n",
       "       [0.92153434, 0.93784899],\n",
       "       [0.93165414, 0.95235961],\n",
       "       [0.88812412, 0.88593198],\n",
       "       [0.87032145, 0.88518498],\n",
       "       [0.90743359, 0.91538275],\n",
       "       [0.89941588, 0.91773582],\n",
       "       [0.9089404 , 0.90210469],\n",
       "       [0.89456061, 0.91568155],\n",
       "       [0.9132934 , 0.88936822],\n",
       "       [0.86589404, 0.88987245],\n",
       "       [0.90335962, 0.89601658],\n",
       "       [0.91777662, 0.93149943],\n",
       "       [0.94114145, 0.95745793],\n",
       "       [0.96413424, 0.9638822 ],\n",
       "       [0.96971501, 0.95058547],\n",
       "       [0.96294367, 0.96108092],\n",
       "       [0.95475854, 0.95185538],\n",
       "       [0.95163331, 0.95708443],\n",
       "       [0.93796041, 0.93663511],\n",
       "       [0.92955205, 0.94711188],\n",
       "       [0.94307612, 0.95999776],\n",
       "       [0.98087655, 0.98352849],\n",
       "       [0.97827219, 0.98218388],\n",
       "       [0.98288563, 0.98207182],\n",
       "       [0.979779  , 0.97841149],\n",
       "       [0.98182528, 0.9823893 ],\n",
       "       [1.01045465, 1.02416569],\n",
       "       [1.03930724, 1.03367135],\n",
       "       [0.99624228, 0.96298579]])"
      ]
     },
     "execution_count": 54,
     "metadata": {},
     "output_type": "execute_result"
    }
   ],
   "source": [
    "inputs"
   ]
  },
  {
   "cell_type": "code",
   "execution_count": null,
   "metadata": {},
   "outputs": [],
   "source": []
  }
 ],
 "metadata": {
  "kernelspec": {
   "display_name": "Python 3",
   "language": "python",
   "name": "python3"
  },
  "language_info": {
   "codemirror_mode": {
    "name": "ipython",
    "version": 3
   },
   "file_extension": ".py",
   "mimetype": "text/x-python",
   "name": "python",
   "nbconvert_exporter": "python",
   "pygments_lexer": "ipython3",
   "version": "3.8.10"
  }
 },
 "nbformat": 4,
 "nbformat_minor": 4
}
